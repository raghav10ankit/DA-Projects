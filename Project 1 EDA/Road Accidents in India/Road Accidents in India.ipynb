{
 "cells": [
  {
   "cell_type": "markdown",
   "id": "66c778ec",
   "metadata": {},
   "source": [
    "<h2 style=\"color:tomato\">EDA on Road Accidents in India"
   ]
  },
  {
   "cell_type": "code",
   "execution_count": 1,
   "id": "1206c150",
   "metadata": {},
   "outputs": [],
   "source": [
    "import pandas as pd\n",
    "import numpy as np"
   ]
  },
  {
   "cell_type": "code",
   "execution_count": 3,
   "id": "e9b2714b",
   "metadata": {},
   "outputs": [],
   "source": [
    "df = pd.read_csv(\"accident.csv\")"
   ]
  },
  {
   "cell_type": "code",
   "execution_count": 5,
   "id": "46d9a657",
   "metadata": {},
   "outputs": [
    {
     "data": {
      "text/html": [
       "<div>\n",
       "<style scoped>\n",
       "    .dataframe tbody tr th:only-of-type {\n",
       "        vertical-align: middle;\n",
       "    }\n",
       "\n",
       "    .dataframe tbody tr th {\n",
       "        vertical-align: top;\n",
       "    }\n",
       "\n",
       "    .dataframe thead th {\n",
       "        text-align: right;\n",
       "    }\n",
       "</style>\n",
       "<table border=\"1\" class=\"dataframe\">\n",
       "  <thead>\n",
       "    <tr style=\"text-align: right;\">\n",
       "      <th></th>\n",
       "      <th>State/UT</th>\n",
       "      <th>Year</th>\n",
       "      <th>Mode</th>\n",
       "      <th>Total</th>\n",
       "    </tr>\n",
       "  </thead>\n",
       "  <tbody>\n",
       "    <tr>\n",
       "      <th>0</th>\n",
       "      <td>A &amp; N Islands</td>\n",
       "      <td>2001</td>\n",
       "      <td>Bicycle</td>\n",
       "      <td>0</td>\n",
       "    </tr>\n",
       "    <tr>\n",
       "      <th>1</th>\n",
       "      <td>A &amp; N Islands</td>\n",
       "      <td>2001</td>\n",
       "      <td>Bus</td>\n",
       "      <td>2</td>\n",
       "    </tr>\n",
       "    <tr>\n",
       "      <th>2</th>\n",
       "      <td>A &amp; N Islands</td>\n",
       "      <td>2001</td>\n",
       "      <td>Car</td>\n",
       "      <td>1</td>\n",
       "    </tr>\n",
       "  </tbody>\n",
       "</table>\n",
       "</div>"
      ],
      "text/plain": [
       "        State/UT  Year     Mode  Total\n",
       "0  A & N Islands  2001  Bicycle      0\n",
       "1  A & N Islands  2001      Bus      2\n",
       "2  A & N Islands  2001      Car      1"
      ]
     },
     "execution_count": 5,
     "metadata": {},
     "output_type": "execute_result"
    }
   ],
   "source": [
    "df.head(3)"
   ]
  },
  {
   "cell_type": "code",
   "execution_count": null,
   "id": "a300c20d",
   "metadata": {},
   "outputs": [],
   "source": []
  },
  {
   "cell_type": "code",
   "execution_count": 14,
   "id": "5260da9d",
   "metadata": {},
   "outputs": [],
   "source": [
    "df.rename(columns={'states':'States'},inplace=True)"
   ]
  },
  {
   "cell_type": "code",
   "execution_count": 15,
   "id": "27f0e939",
   "metadata": {},
   "outputs": [
    {
     "data": {
      "text/html": [
       "<div>\n",
       "<style scoped>\n",
       "    .dataframe tbody tr th:only-of-type {\n",
       "        vertical-align: middle;\n",
       "    }\n",
       "\n",
       "    .dataframe tbody tr th {\n",
       "        vertical-align: top;\n",
       "    }\n",
       "\n",
       "    .dataframe thead th {\n",
       "        text-align: right;\n",
       "    }\n",
       "</style>\n",
       "<table border=\"1\" class=\"dataframe\">\n",
       "  <thead>\n",
       "    <tr style=\"text-align: right;\">\n",
       "      <th></th>\n",
       "      <th>States</th>\n",
       "      <th>Year</th>\n",
       "      <th>Mode</th>\n",
       "      <th>Total</th>\n",
       "    </tr>\n",
       "  </thead>\n",
       "  <tbody>\n",
       "    <tr>\n",
       "      <th>0</th>\n",
       "      <td>A &amp; N Islands</td>\n",
       "      <td>2001</td>\n",
       "      <td>Bicycle</td>\n",
       "      <td>0</td>\n",
       "    </tr>\n",
       "    <tr>\n",
       "      <th>1</th>\n",
       "      <td>A &amp; N Islands</td>\n",
       "      <td>2001</td>\n",
       "      <td>Bus</td>\n",
       "      <td>2</td>\n",
       "    </tr>\n",
       "    <tr>\n",
       "      <th>2</th>\n",
       "      <td>A &amp; N Islands</td>\n",
       "      <td>2001</td>\n",
       "      <td>Car</td>\n",
       "      <td>1</td>\n",
       "    </tr>\n",
       "  </tbody>\n",
       "</table>\n",
       "</div>"
      ],
      "text/plain": [
       "          States  Year     Mode  Total\n",
       "0  A & N Islands  2001  Bicycle      0\n",
       "1  A & N Islands  2001      Bus      2\n",
       "2  A & N Islands  2001      Car      1"
      ]
     },
     "execution_count": 15,
     "metadata": {},
     "output_type": "execute_result"
    }
   ],
   "source": [
    "df.head(3)"
   ]
  },
  {
   "cell_type": "code",
   "execution_count": 20,
   "id": "f3720476",
   "metadata": {},
   "outputs": [],
   "source": [
    "states = df.groupby(by='States').sum()"
   ]
  },
  {
   "cell_type": "code",
   "execution_count": 41,
   "id": "3d3a897e",
   "metadata": {},
   "outputs": [
    {
     "data": {
      "text/plain": [
       "array([2001, 2002, 2003, 2004, 2005, 2006, 2007, 2008, 2009, 2010, 2011,\n",
       "       2012, 2013, 2014], dtype=int64)"
      ]
     },
     "execution_count": 41,
     "metadata": {},
     "output_type": "execute_result"
    }
   ],
   "source": [
    "df['Year'].unique()"
   ]
  },
  {
   "cell_type": "code",
   "execution_count": 43,
   "id": "38958620",
   "metadata": {},
   "outputs": [
    {
     "data": {
      "text/plain": [
       "array(['Bicycle', 'Bus', 'Car', 'Jeep', 'Other Motor Vehicles', 'Others',\n",
       "       'Pedestrian', 'Three Wheeler', 'Truck/Lorry', 'Two Wheeler'],\n",
       "      dtype=object)"
      ]
     },
     "execution_count": 43,
     "metadata": {},
     "output_type": "execute_result"
    }
   ],
   "source": [
    "df['Mode'].unique()"
   ]
  },
  {
   "cell_type": "markdown",
   "id": "43e4ba92",
   "metadata": {},
   "source": [
    "<h3>1.Which state had maximum number of Accidents?"
   ]
  },
  {
   "cell_type": "code",
   "execution_count": 53,
   "id": "3e7498af",
   "metadata": {},
   "outputs": [
    {
     "name": "stdout",
     "output_type": "stream",
     "text": [
      "Tamil Nadu has maximum number of accidents i.e., 179587\n"
     ]
    }
   ],
   "source": [
    "max_acc_state = states[states['Total'] == states['Total'].max()].index[0]\n",
    "max_acc_state_num = states[states['Total'] == states['Total'].max()]['Total'][0]\n",
    "print(max_acc_state,\"has maximum number of accidents i.e.,\",max_acc_state_num)"
   ]
  },
  {
   "cell_type": "markdown",
   "id": "e9dc868e",
   "metadata": {},
   "source": [
    "<h3>2.Which state had minimum number of Accidents?"
   ]
  },
  {
   "cell_type": "code",
   "execution_count": 45,
   "id": "8aa81e8d",
   "metadata": {},
   "outputs": [
    {
     "name": "stdout",
     "output_type": "stream",
     "text": [
      "Lakshadweep has minimum number of accidents i.e., 5\n"
     ]
    }
   ],
   "source": [
    "min_acc_state = states[states['Total'] == states['Total'].min()].index[0]\n",
    "min_acc_state_num = states[states['Total'] == states['Total'].min()]['Total'][0]\n",
    "print(min_acc_state,\"has minimum number of accidents i.e.,\",min_acc_state_num)"
   ]
  },
  {
   "cell_type": "code",
   "execution_count": 47,
   "id": "01420187",
   "metadata": {},
   "outputs": [
    {
     "data": {
      "text/html": [
       "<div>\n",
       "<style scoped>\n",
       "    .dataframe tbody tr th:only-of-type {\n",
       "        vertical-align: middle;\n",
       "    }\n",
       "\n",
       "    .dataframe tbody tr th {\n",
       "        vertical-align: top;\n",
       "    }\n",
       "\n",
       "    .dataframe thead th {\n",
       "        text-align: right;\n",
       "    }\n",
       "</style>\n",
       "<table border=\"1\" class=\"dataframe\">\n",
       "  <thead>\n",
       "    <tr style=\"text-align: right;\">\n",
       "      <th></th>\n",
       "      <th>Total</th>\n",
       "    </tr>\n",
       "    <tr>\n",
       "      <th>Year</th>\n",
       "      <th></th>\n",
       "    </tr>\n",
       "  </thead>\n",
       "  <tbody>\n",
       "    <tr>\n",
       "      <th>2001</th>\n",
       "      <td>80262</td>\n",
       "    </tr>\n",
       "    <tr>\n",
       "      <th>2002</th>\n",
       "      <td>84059</td>\n",
       "    </tr>\n",
       "    <tr>\n",
       "      <th>2003</th>\n",
       "      <td>84430</td>\n",
       "    </tr>\n",
       "    <tr>\n",
       "      <th>2004</th>\n",
       "      <td>91376</td>\n",
       "    </tr>\n",
       "    <tr>\n",
       "      <th>2005</th>\n",
       "      <td>98254</td>\n",
       "    </tr>\n",
       "    <tr>\n",
       "      <th>2006</th>\n",
       "      <td>105725</td>\n",
       "    </tr>\n",
       "    <tr>\n",
       "      <th>2007</th>\n",
       "      <td>114590</td>\n",
       "    </tr>\n",
       "    <tr>\n",
       "      <th>2008</th>\n",
       "      <td>118239</td>\n",
       "    </tr>\n",
       "    <tr>\n",
       "      <th>2009</th>\n",
       "      <td>126896</td>\n",
       "    </tr>\n",
       "    <tr>\n",
       "      <th>2010</th>\n",
       "      <td>133938</td>\n",
       "    </tr>\n",
       "    <tr>\n",
       "      <th>2011</th>\n",
       "      <td>136834</td>\n",
       "    </tr>\n",
       "    <tr>\n",
       "      <th>2012</th>\n",
       "      <td>139091</td>\n",
       "    </tr>\n",
       "    <tr>\n",
       "      <th>2013</th>\n",
       "      <td>137423</td>\n",
       "    </tr>\n",
       "    <tr>\n",
       "      <th>2014</th>\n",
       "      <td>141526</td>\n",
       "    </tr>\n",
       "  </tbody>\n",
       "</table>\n",
       "</div>"
      ],
      "text/plain": [
       "       Total\n",
       "Year        \n",
       "2001   80262\n",
       "2002   84059\n",
       "2003   84430\n",
       "2004   91376\n",
       "2005   98254\n",
       "2006  105725\n",
       "2007  114590\n",
       "2008  118239\n",
       "2009  126896\n",
       "2010  133938\n",
       "2011  136834\n",
       "2012  139091\n",
       "2013  137423\n",
       "2014  141526"
      ]
     },
     "execution_count": 47,
     "metadata": {},
     "output_type": "execute_result"
    }
   ],
   "source": [
    "year = df.groupby(by='Year').sum()\n",
    "year"
   ]
  },
  {
   "cell_type": "markdown",
   "id": "bc1da355",
   "metadata": {},
   "source": [
    "<h3>3.Which year had maximum number of Accidents?"
   ]
  },
  {
   "cell_type": "code",
   "execution_count": 56,
   "id": "2dd2ee7d",
   "metadata": {},
   "outputs": [
    {
     "name": "stdout",
     "output_type": "stream",
     "text": [
      "2014 has maximum number of accidents i.e., 141526\n"
     ]
    }
   ],
   "source": [
    "max_acc_year = year[year['Total'] == year['Total'].max()].index[0]\n",
    "max_acc_year_num = year[year['Total'] == year['Total'].max()]['Total'].values[0]\n",
    "# max_acc_year_num\n",
    "print(max_acc_year,\"has maximum number of accidents i.e.,\",max_acc_year_num)"
   ]
  },
  {
   "cell_type": "markdown",
   "id": "cd3638c7",
   "metadata": {},
   "source": [
    "<h3>4.Which year had minimum number of Accidents?"
   ]
  },
  {
   "cell_type": "code",
   "execution_count": 57,
   "id": "2ee19f8a",
   "metadata": {},
   "outputs": [
    {
     "name": "stdout",
     "output_type": "stream",
     "text": [
      "2001 has minimum number of accidents i.e., 80262\n"
     ]
    }
   ],
   "source": [
    "min_acc_year = year[year['Total'] == year['Total'].min()].index[0]\n",
    "min_acc_year_num = year[year['Total'] == year['Total'].min()]['Total'].values[0]\n",
    "# max_acc_year_num\n",
    "print(min_acc_year,\"has minimum number of accidents i.e.,\",min_acc_year_num)"
   ]
  },
  {
   "cell_type": "code",
   "execution_count": 59,
   "id": "004d6a32",
   "metadata": {},
   "outputs": [
    {
     "data": {
      "text/html": [
       "<div>\n",
       "<style scoped>\n",
       "    .dataframe tbody tr th:only-of-type {\n",
       "        vertical-align: middle;\n",
       "    }\n",
       "\n",
       "    .dataframe tbody tr th {\n",
       "        vertical-align: top;\n",
       "    }\n",
       "\n",
       "    .dataframe thead th {\n",
       "        text-align: right;\n",
       "    }\n",
       "</style>\n",
       "<table border=\"1\" class=\"dataframe\">\n",
       "  <thead>\n",
       "    <tr style=\"text-align: right;\">\n",
       "      <th></th>\n",
       "      <th>Year</th>\n",
       "      <th>Total</th>\n",
       "    </tr>\n",
       "    <tr>\n",
       "      <th>Mode</th>\n",
       "      <th></th>\n",
       "      <th></th>\n",
       "    </tr>\n",
       "  </thead>\n",
       "  <tbody>\n",
       "    <tr>\n",
       "      <th>Bicycle</th>\n",
       "      <td>985689</td>\n",
       "      <td>38786</td>\n",
       "    </tr>\n",
       "    <tr>\n",
       "      <th>Bus</th>\n",
       "      <td>985689</td>\n",
       "      <td>171137</td>\n",
       "    </tr>\n",
       "    <tr>\n",
       "      <th>Car</th>\n",
       "      <td>985689</td>\n",
       "      <td>147871</td>\n",
       "    </tr>\n",
       "    <tr>\n",
       "      <th>Jeep</th>\n",
       "      <td>985689</td>\n",
       "      <td>123836</td>\n",
       "    </tr>\n",
       "    <tr>\n",
       "      <th>Other Motor Vehicles</th>\n",
       "      <td>985689</td>\n",
       "      <td>98057</td>\n",
       "    </tr>\n",
       "    <tr>\n",
       "      <th>Others</th>\n",
       "      <td>985689</td>\n",
       "      <td>136774</td>\n",
       "    </tr>\n",
       "    <tr>\n",
       "      <th>Pedestrian</th>\n",
       "      <td>985689</td>\n",
       "      <td>134341</td>\n",
       "    </tr>\n",
       "    <tr>\n",
       "      <th>Three Wheeler</th>\n",
       "      <td>985689</td>\n",
       "      <td>79862</td>\n",
       "    </tr>\n",
       "    <tr>\n",
       "      <th>Truck/Lorry</th>\n",
       "      <td>985689</td>\n",
       "      <td>344443</td>\n",
       "    </tr>\n",
       "    <tr>\n",
       "      <th>Two Wheeler</th>\n",
       "      <td>985689</td>\n",
       "      <td>317536</td>\n",
       "    </tr>\n",
       "  </tbody>\n",
       "</table>\n",
       "</div>"
      ],
      "text/plain": [
       "                        Year   Total\n",
       "Mode                                \n",
       "Bicycle               985689   38786\n",
       "Bus                   985689  171137\n",
       "Car                   985689  147871\n",
       "Jeep                  985689  123836\n",
       "Other Motor Vehicles  985689   98057\n",
       "Others                985689  136774\n",
       "Pedestrian            985689  134341\n",
       "Three Wheeler         985689   79862\n",
       "Truck/Lorry           985689  344443\n",
       "Two Wheeler           985689  317536"
      ]
     },
     "execution_count": 59,
     "metadata": {},
     "output_type": "execute_result"
    }
   ],
   "source": [
    "mode = df.groupby(by='Mode').sum()\n",
    "mode"
   ]
  },
  {
   "cell_type": "markdown",
   "id": "cfe816d9",
   "metadata": {},
   "source": [
    "<h3>5.Which mode had maximum number of Accidents?"
   ]
  },
  {
   "cell_type": "code",
   "execution_count": 60,
   "id": "b6ce965d",
   "metadata": {},
   "outputs": [
    {
     "name": "stdout",
     "output_type": "stream",
     "text": [
      "Truck/Lorry has maximum number of accidents i.e., 344443\n"
     ]
    }
   ],
   "source": [
    "max_acc_mode = mode[mode['Total'] == mode['Total'].max()].index[0]\n",
    "max_acc_mode_num = mode[mode['Total'] == mode['Total'].max()]['Total'].values[0]\n",
    "# max_acc_year_num\n",
    "print(max_acc_mode,\"has maximum number of accidents i.e.,\",max_acc_mode_num)"
   ]
  },
  {
   "cell_type": "markdown",
   "id": "6959a9f3",
   "metadata": {},
   "source": [
    "<h3>6.Which mode had minimum number of Accidents?"
   ]
  },
  {
   "cell_type": "code",
   "execution_count": 62,
   "id": "eb329239",
   "metadata": {},
   "outputs": [
    {
     "name": "stdout",
     "output_type": "stream",
     "text": [
      "Bicycle has minimum number of accidents i.e., 38786\n"
     ]
    }
   ],
   "source": [
    "min_acc_mode = mode[mode['Total'] == mode['Total'].min()].index[0]\n",
    "min_acc_mode_num = mode[mode['Total'] == mode['Total'].min()]['Total'].values[0]\n",
    "# max_acc_year_num\n",
    "print(min_acc_mode,\"has minimum number of accidents i.e.,\",min_acc_mode_num)"
   ]
  },
  {
   "cell_type": "markdown",
   "id": "5e8f2182",
   "metadata": {},
   "source": [
    "<h3>7. Find total number of accidents took place in India from 2001 to 2014"
   ]
  },
  {
   "cell_type": "code",
   "execution_count": 66,
   "id": "dd3de0b1",
   "metadata": {},
   "outputs": [
    {
     "name": "stdout",
     "output_type": "stream",
     "text": [
      "About 1592643 accidents had occurs from 2001 to 2014\n"
     ]
    }
   ],
   "source": [
    "total_accident = df['Total'].sum()\n",
    "print('About',total_accident,'accidents had occurs from 2001 to 2014')"
   ]
  },
  {
   "cell_type": "markdown",
   "id": "984742ce",
   "metadata": {},
   "source": [
    "<h3>8. Find average number accidents took place per year?"
   ]
  },
  {
   "cell_type": "code",
   "execution_count": 76,
   "id": "c8bc54de",
   "metadata": {},
   "outputs": [
    {
     "name": "stdout",
     "output_type": "stream",
     "text": [
      "On average 113760 accidents took place per year\n"
     ]
    }
   ],
   "source": [
    "average_acc_per_year = df['Total'].sum()/df['Year'].nunique()\n",
    "print('On average',round(average_acc_per_year),'accidents took place per year')"
   ]
  },
  {
   "cell_type": "markdown",
   "id": "c4bfddd0",
   "metadata": {},
   "source": [
    "<h3>9.Which year is good for two wheelers in number of accidents?"
   ]
  },
  {
   "cell_type": "code",
   "execution_count": 97,
   "id": "32a416ee",
   "metadata": {},
   "outputs": [
    {
     "name": "stdout",
     "output_type": "stream",
     "text": [
      "2001 had witness least  number of accident for two wheelers i.e, 9638\n"
     ]
    }
   ],
   "source": [
    "two_wheeler = df[df['Mode'] == 'Two Wheeler']\n",
    "year_2_wheeler = two_wheeler.groupby(by='Year').sum()\n",
    "good_year_2_wheeler = year_2_wheeler[year_2_wheeler['Total'] == year_2_wheeler['Total'].min()]['Total'].index[0]\n",
    "good_year_2_wheeler_num = year_2_wheeler[year_2_wheeler['Total'] == year_2_wheeler['Total'].min()]['Total'].values[0]\n",
    "print(good_year_2_wheeler,'had witness least  number of accident for two wheelers i.e,',good_year_2_wheeler_num)"
   ]
  },
  {
   "cell_type": "markdown",
   "id": "b20246d7",
   "metadata": {},
   "source": [
    "<h3>10. Which state has less accident in 2014?"
   ]
  },
  {
   "cell_type": "code",
   "execution_count": 122,
   "id": "6a13742e",
   "metadata": {},
   "outputs": [
    {
     "name": "stdout",
     "output_type": "stream",
     "text": [
      "Lakshadweep had witness no accidents in 2014 i.e., 0\n"
     ]
    }
   ],
   "source": [
    "acc_2014 = df[df['Year'] == 2014]\n",
    "states_wise_2014 = acc_2014.groupby(by='States').sum()\n",
    "state_min_acc_2014 = states_wise_2014[states_wise_2014['Total'] == states_wise_2014['Total'].min()].index[0]\n",
    "state_min_acc = states_wise_2014[states_wise_2014['Total'] == states_wise_2014['Total'].min()]['Total'].values[0]\n",
    "print(state_min_acc_2014,'had witness no accidents in 2014 i.e.,',state_min_acc)"
   ]
  },
  {
   "cell_type": "code",
   "execution_count": null,
   "id": "891b33d2",
   "metadata": {},
   "outputs": [],
   "source": []
  }
 ],
 "metadata": {
  "kernelspec": {
   "display_name": "Python 3",
   "language": "python",
   "name": "python3"
  },
  "language_info": {
   "codemirror_mode": {
    "name": "ipython",
    "version": 3
   },
   "file_extension": ".py",
   "mimetype": "text/x-python",
   "name": "python",
   "nbconvert_exporter": "python",
   "pygments_lexer": "ipython3",
   "version": "3.8.8"
  }
 },
 "nbformat": 4,
 "nbformat_minor": 5
}
