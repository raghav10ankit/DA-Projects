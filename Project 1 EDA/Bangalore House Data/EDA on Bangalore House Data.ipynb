{
 "cells": [
  {
   "cell_type": "markdown",
   "id": "c6475be2",
   "metadata": {},
   "source": [
    "<h3 style=\"color:dodgerblue\">Import libraries"
   ]
  },
  {
   "cell_type": "code",
   "execution_count": 1,
   "id": "0c889fea",
   "metadata": {},
   "outputs": [],
   "source": [
    "import numpy as np\n",
    "import pandas as pd\n",
    "import matplotlib.pyplot as plt\n",
    "import seaborn as sns\n",
    "%matplotlib inline"
   ]
  },
  {
   "cell_type": "code",
   "execution_count": 3,
   "id": "42ce4c17",
   "metadata": {},
   "outputs": [],
   "source": [
    "df = pd.read_csv(r\"C:\\Users\\Ankit\\DA Cetpa Project\\Project1 EDA on Bangalore House Data\\Bengaluru_House_Data.csv\")"
   ]
  },
  {
   "cell_type": "code",
   "execution_count": 201,
   "id": "b6f84df7",
   "metadata": {},
   "outputs": [],
   "source": [
    "pd.set_option('display.max_columns',None)\n",
    "pd.set_option('display.max_rows',None)"
   ]
  },
  {
   "cell_type": "code",
   "execution_count": 4,
   "id": "4773c375",
   "metadata": {},
   "outputs": [
    {
     "data": {
      "text/html": [
       "<div>\n",
       "<style scoped>\n",
       "    .dataframe tbody tr th:only-of-type {\n",
       "        vertical-align: middle;\n",
       "    }\n",
       "\n",
       "    .dataframe tbody tr th {\n",
       "        vertical-align: top;\n",
       "    }\n",
       "\n",
       "    .dataframe thead th {\n",
       "        text-align: right;\n",
       "    }\n",
       "</style>\n",
       "<table border=\"1\" class=\"dataframe\">\n",
       "  <thead>\n",
       "    <tr style=\"text-align: right;\">\n",
       "      <th></th>\n",
       "      <th>area_type</th>\n",
       "      <th>availability</th>\n",
       "      <th>location</th>\n",
       "      <th>size</th>\n",
       "      <th>society</th>\n",
       "      <th>total_sqft</th>\n",
       "      <th>bath</th>\n",
       "      <th>balcony</th>\n",
       "      <th>price</th>\n",
       "    </tr>\n",
       "  </thead>\n",
       "  <tbody>\n",
       "    <tr>\n",
       "      <th>0</th>\n",
       "      <td>Super built-up  Area</td>\n",
       "      <td>19-Dec</td>\n",
       "      <td>Electronic City Phase II</td>\n",
       "      <td>2 BHK</td>\n",
       "      <td>Coomee</td>\n",
       "      <td>1056</td>\n",
       "      <td>2.0</td>\n",
       "      <td>1.0</td>\n",
       "      <td>39.07</td>\n",
       "    </tr>\n",
       "    <tr>\n",
       "      <th>1</th>\n",
       "      <td>Plot  Area</td>\n",
       "      <td>Ready To Move</td>\n",
       "      <td>Chikka Tirupathi</td>\n",
       "      <td>4 Bedroom</td>\n",
       "      <td>Theanmp</td>\n",
       "      <td>2600</td>\n",
       "      <td>5.0</td>\n",
       "      <td>3.0</td>\n",
       "      <td>120.00</td>\n",
       "    </tr>\n",
       "    <tr>\n",
       "      <th>2</th>\n",
       "      <td>Built-up  Area</td>\n",
       "      <td>Ready To Move</td>\n",
       "      <td>Uttarahalli</td>\n",
       "      <td>3 BHK</td>\n",
       "      <td>NaN</td>\n",
       "      <td>1440</td>\n",
       "      <td>2.0</td>\n",
       "      <td>3.0</td>\n",
       "      <td>62.00</td>\n",
       "    </tr>\n",
       "  </tbody>\n",
       "</table>\n",
       "</div>"
      ],
      "text/plain": [
       "              area_type   availability                  location       size  \\\n",
       "0  Super built-up  Area         19-Dec  Electronic City Phase II      2 BHK   \n",
       "1            Plot  Area  Ready To Move          Chikka Tirupathi  4 Bedroom   \n",
       "2        Built-up  Area  Ready To Move               Uttarahalli      3 BHK   \n",
       "\n",
       "   society total_sqft  bath  balcony   price  \n",
       "0  Coomee        1056   2.0      1.0   39.07  \n",
       "1  Theanmp       2600   5.0      3.0  120.00  \n",
       "2      NaN       1440   2.0      3.0   62.00  "
      ]
     },
     "execution_count": 4,
     "metadata": {},
     "output_type": "execute_result"
    }
   ],
   "source": [
    "df.head(3)"
   ]
  },
  {
   "cell_type": "code",
   "execution_count": 5,
   "id": "bbeadf59",
   "metadata": {},
   "outputs": [
    {
     "data": {
      "text/plain": [
       "(13320, 9)"
      ]
     },
     "execution_count": 5,
     "metadata": {},
     "output_type": "execute_result"
    }
   ],
   "source": [
    "df.shape"
   ]
  },
  {
   "cell_type": "code",
   "execution_count": 6,
   "id": "cf3f77c7",
   "metadata": {},
   "outputs": [
    {
     "name": "stdout",
     "output_type": "stream",
     "text": [
      "<class 'pandas.core.frame.DataFrame'>\n",
      "RangeIndex: 13320 entries, 0 to 13319\n",
      "Data columns (total 9 columns):\n",
      " #   Column        Non-Null Count  Dtype  \n",
      "---  ------        --------------  -----  \n",
      " 0   area_type     13320 non-null  object \n",
      " 1   availability  13320 non-null  object \n",
      " 2   location      13319 non-null  object \n",
      " 3   size          13304 non-null  object \n",
      " 4   society       7818 non-null   object \n",
      " 5   total_sqft    13320 non-null  object \n",
      " 6   bath          13247 non-null  float64\n",
      " 7   balcony       12711 non-null  float64\n",
      " 8   price         13320 non-null  float64\n",
      "dtypes: float64(3), object(6)\n",
      "memory usage: 936.7+ KB\n"
     ]
    }
   ],
   "source": [
    "df.info()"
   ]
  },
  {
   "cell_type": "code",
   "execution_count": 9,
   "id": "4c6f479d",
   "metadata": {},
   "outputs": [
    {
     "data": {
      "text/plain": [
       "area_type        0.000000\n",
       "availability     0.000000\n",
       "location         0.007508\n",
       "size             0.120120\n",
       "society         41.306306\n",
       "total_sqft       0.000000\n",
       "bath             0.548048\n",
       "balcony          4.572072\n",
       "price            0.000000\n",
       "dtype: float64"
      ]
     },
     "execution_count": 9,
     "metadata": {},
     "output_type": "execute_result"
    }
   ],
   "source": [
    "percent_null_value = df.isnull().sum()/df.shape[0]*100\n",
    "percent_null_value"
   ]
  },
  {
   "cell_type": "code",
   "execution_count": 12,
   "id": "571b5778",
   "metadata": {},
   "outputs": [
    {
     "data": {
      "text/plain": [
       "Index(['location', 'size', 'society', 'bath', 'balcony'], dtype='object')"
      ]
     },
     "execution_count": 12,
     "metadata": {},
     "output_type": "execute_result"
    }
   ],
   "source": [
    "na_columns = percent_null_value[percent_null_value>0].index\n",
    "na_columns"
   ]
  },
  {
   "cell_type": "markdown",
   "id": "e08211f2",
   "metadata": {},
   "source": [
    "<h4>Filling Object type columns"
   ]
  },
  {
   "cell_type": "code",
   "execution_count": 14,
   "id": "4a6d3087",
   "metadata": {},
   "outputs": [
    {
     "data": {
      "text/plain": [
       "Index(['area_type', 'availability', 'location', 'size', 'society',\n",
       "       'total_sqft'],\n",
       "      dtype='object')"
      ]
     },
     "execution_count": 14,
     "metadata": {},
     "output_type": "execute_result"
    }
   ],
   "source": [
    "object_columns = df.select_dtypes(include='object').columns\n",
    "object_columns"
   ]
  },
  {
   "cell_type": "code",
   "execution_count": 15,
   "id": "8542269b",
   "metadata": {},
   "outputs": [
    {
     "data": {
      "text/plain": [
       "['location', 'size', 'society']"
      ]
     },
     "execution_count": 15,
     "metadata": {},
     "output_type": "execute_result"
    }
   ],
   "source": [
    "na_object_col = []\n",
    "for i in na_columns:\n",
    "    for j in object_columns:\n",
    "        if i==j:\n",
    "            na_object_col.append(i)\n",
    "na_object_col            "
   ]
  },
  {
   "cell_type": "code",
   "execution_count": 19,
   "id": "64749645",
   "metadata": {},
   "outputs": [],
   "source": [
    "for i in na_object_col:\n",
    "    df[i].fillna(df[i].mode()[0],inplace=True)"
   ]
  },
  {
   "cell_type": "code",
   "execution_count": 20,
   "id": "d46888c8",
   "metadata": {},
   "outputs": [
    {
     "data": {
      "text/plain": [
       "area_type         0\n",
       "availability      0\n",
       "location          0\n",
       "size              0\n",
       "society           0\n",
       "total_sqft        0\n",
       "bath             73\n",
       "balcony         609\n",
       "price             0\n",
       "dtype: int64"
      ]
     },
     "execution_count": 20,
     "metadata": {},
     "output_type": "execute_result"
    }
   ],
   "source": [
    "df.isnull().sum()"
   ]
  },
  {
   "cell_type": "markdown",
   "id": "1cbab27b",
   "metadata": {},
   "source": [
    "<h4>Filling numerical columns"
   ]
  },
  {
   "cell_type": "code",
   "execution_count": 21,
   "id": "fa95ac4e",
   "metadata": {},
   "outputs": [
    {
     "data": {
      "text/plain": [
       "Index(['bath', 'balcony', 'price'], dtype='object')"
      ]
     },
     "execution_count": 21,
     "metadata": {},
     "output_type": "execute_result"
    }
   ],
   "source": [
    "num_col = df.select_dtypes(include=['int64','float64']).columns\n",
    "num_col"
   ]
  },
  {
   "cell_type": "code",
   "execution_count": 22,
   "id": "4c156552",
   "metadata": {},
   "outputs": [
    {
     "data": {
      "text/plain": [
       "['bath', 'balcony']"
      ]
     },
     "execution_count": 22,
     "metadata": {},
     "output_type": "execute_result"
    }
   ],
   "source": [
    "na_num_col = []\n",
    "for i in num_col:\n",
    "    for j in na_columns:\n",
    "        if i==j:\n",
    "            na_num_col.append(i) \n",
    "na_num_col            "
   ]
  },
  {
   "cell_type": "code",
   "execution_count": 25,
   "id": "6b3b004e",
   "metadata": {},
   "outputs": [],
   "source": [
    "for i in na_num_col:\n",
    "    df[i].fillna(method='bfill',inplace=True)"
   ]
  },
  {
   "cell_type": "code",
   "execution_count": 26,
   "id": "772e5d2f",
   "metadata": {},
   "outputs": [
    {
     "data": {
      "text/plain": [
       "area_type       0\n",
       "availability    0\n",
       "location        0\n",
       "size            0\n",
       "society         0\n",
       "total_sqft      0\n",
       "bath            0\n",
       "balcony         0\n",
       "price           0\n",
       "dtype: int64"
      ]
     },
     "execution_count": 26,
     "metadata": {},
     "output_type": "execute_result"
    }
   ],
   "source": [
    "df.isnull().sum()"
   ]
  },
  {
   "cell_type": "code",
   "execution_count": 27,
   "id": "a8772cc1",
   "metadata": {},
   "outputs": [
    {
     "data": {
      "text/plain": [
       "<AxesSubplot:>"
      ]
     },
     "execution_count": 27,
     "metadata": {},
     "output_type": "execute_result"
    },
    {
     "data": {
      "image/png": "[encoded data removed]",
      "text/plain": [
       "<Figure size 432x288 with 2 Axes>"
      ]
     },
     "metadata": {
      "needs_background": "light"
     },
     "output_type": "display_data"
    }
   ],
   "source": [
    "sns.heatmap(df.isnull())"
   ]
  },
  {
   "cell_type": "markdown",
   "id": "2017b2d0",
   "metadata": {},
   "source": [
    "<h3> Now we have clean our data , lets do EDA on dataset"
   ]
  },
  {
   "cell_type": "code",
   "execution_count": 28,
   "id": "12c645d4",
   "metadata": {},
   "outputs": [
    {
     "data": {
      "text/html": [
       "<div>\n",
       "<style scoped>\n",
       "    .dataframe tbody tr th:only-of-type {\n",
       "        vertical-align: middle;\n",
       "    }\n",
       "\n",
       "    .dataframe tbody tr th {\n",
       "        vertical-align: top;\n",
       "    }\n",
       "\n",
       "    .dataframe thead th {\n",
       "        text-align: right;\n",
       "    }\n",
       "</style>\n",
       "<table border=\"1\" class=\"dataframe\">\n",
       "  <thead>\n",
       "    <tr style=\"text-align: right;\">\n",
       "      <th></th>\n",
       "      <th>area_type</th>\n",
       "      <th>availability</th>\n",
       "      <th>location</th>\n",
       "      <th>size</th>\n",
       "      <th>society</th>\n",
       "      <th>total_sqft</th>\n",
       "      <th>bath</th>\n",
       "      <th>balcony</th>\n",
       "      <th>price</th>\n",
       "    </tr>\n",
       "  </thead>\n",
       "  <tbody>\n",
       "    <tr>\n",
       "      <th>0</th>\n",
       "      <td>Super built-up  Area</td>\n",
       "      <td>19-Dec</td>\n",
       "      <td>Electronic City Phase II</td>\n",
       "      <td>2 BHK</td>\n",
       "      <td>Coomee</td>\n",
       "      <td>1056</td>\n",
       "      <td>2.0</td>\n",
       "      <td>1.0</td>\n",
       "      <td>39.07</td>\n",
       "    </tr>\n",
       "    <tr>\n",
       "      <th>1</th>\n",
       "      <td>Plot  Area</td>\n",
       "      <td>Ready To Move</td>\n",
       "      <td>Chikka Tirupathi</td>\n",
       "      <td>4 Bedroom</td>\n",
       "      <td>Theanmp</td>\n",
       "      <td>2600</td>\n",
       "      <td>5.0</td>\n",
       "      <td>3.0</td>\n",
       "      <td>120.00</td>\n",
       "    </tr>\n",
       "    <tr>\n",
       "      <th>2</th>\n",
       "      <td>Built-up  Area</td>\n",
       "      <td>Ready To Move</td>\n",
       "      <td>Uttarahalli</td>\n",
       "      <td>3 BHK</td>\n",
       "      <td>GrrvaGr</td>\n",
       "      <td>1440</td>\n",
       "      <td>2.0</td>\n",
       "      <td>3.0</td>\n",
       "      <td>62.00</td>\n",
       "    </tr>\n",
       "    <tr>\n",
       "      <th>3</th>\n",
       "      <td>Super built-up  Area</td>\n",
       "      <td>Ready To Move</td>\n",
       "      <td>Lingadheeranahalli</td>\n",
       "      <td>3 BHK</td>\n",
       "      <td>Soiewre</td>\n",
       "      <td>1521</td>\n",
       "      <td>3.0</td>\n",
       "      <td>1.0</td>\n",
       "      <td>95.00</td>\n",
       "    </tr>\n",
       "    <tr>\n",
       "      <th>4</th>\n",
       "      <td>Super built-up  Area</td>\n",
       "      <td>Ready To Move</td>\n",
       "      <td>Kothanur</td>\n",
       "      <td>2 BHK</td>\n",
       "      <td>GrrvaGr</td>\n",
       "      <td>1200</td>\n",
       "      <td>2.0</td>\n",
       "      <td>1.0</td>\n",
       "      <td>51.00</td>\n",
       "    </tr>\n",
       "  </tbody>\n",
       "</table>\n",
       "</div>"
      ],
      "text/plain": [
       "              area_type   availability                  location       size  \\\n",
       "0  Super built-up  Area         19-Dec  Electronic City Phase II      2 BHK   \n",
       "1            Plot  Area  Ready To Move          Chikka Tirupathi  4 Bedroom   \n",
       "2        Built-up  Area  Ready To Move               Uttarahalli      3 BHK   \n",
       "3  Super built-up  Area  Ready To Move        Lingadheeranahalli      3 BHK   \n",
       "4  Super built-up  Area  Ready To Move                  Kothanur      2 BHK   \n",
       "\n",
       "   society total_sqft  bath  balcony   price  \n",
       "0  Coomee        1056   2.0      1.0   39.07  \n",
       "1  Theanmp       2600   5.0      3.0  120.00  \n",
       "2  GrrvaGr       1440   2.0      3.0   62.00  \n",
       "3  Soiewre       1521   3.0      1.0   95.00  \n",
       "4  GrrvaGr       1200   2.0      1.0   51.00  "
      ]
     },
     "execution_count": 28,
     "metadata": {},
     "output_type": "execute_result"
    }
   ],
   "source": [
    "df.head()"
   ]
  },
  {
   "cell_type": "code",
   "execution_count": 29,
   "id": "e15b82d8",
   "metadata": {},
   "outputs": [
    {
     "data": {
      "text/plain": [
       "array(['19-Dec', 'Ready To Move', '18-May', '18-Feb', '18-Nov', '20-Dec',\n",
       "       '17-Oct', '21-Dec', '19-Sep', '20-Sep', '18-Mar', '20-Feb',\n",
       "       '18-Apr', '20-Aug', '18-Oct', '19-Mar', '17-Sep', '18-Dec',\n",
       "       '17-Aug', '19-Apr', '18-Jun', '22-Dec', '22-Jan', '18-Aug',\n",
       "       '19-Jan', '17-Jul', '18-Jul', '21-Jun', '20-May', '19-Aug',\n",
       "       '18-Sep', '17-May', '17-Jun', '21-May', '18-Jan', '20-Mar',\n",
       "       '17-Dec', '16-Mar', '19-Jun', '22-Jun', '19-Jul', '21-Feb',\n",
       "       'Immediate Possession', '19-May', '17-Nov', '20-Oct', '20-Jun',\n",
       "       '19-Feb', '21-Oct', '21-Jan', '17-Mar', '17-Apr', '22-May',\n",
       "       '19-Oct', '21-Jul', '21-Nov', '21-Mar', '16-Dec', '22-Mar',\n",
       "       '20-Jan', '21-Sep', '21-Aug', '14-Nov', '19-Nov', '15-Nov',\n",
       "       '16-Jul', '15-Jun', '17-Feb', '20-Nov', '20-Jul', '16-Sep',\n",
       "       '15-Oct', '15-Dec', '16-Oct', '22-Nov', '15-Aug', '17-Jan',\n",
       "       '16-Nov', '20-Apr', '16-Jan', '14-Jul'], dtype=object)"
      ]
     },
     "execution_count": 29,
     "metadata": {},
     "output_type": "execute_result"
    }
   ],
   "source": [
    "df['availability'].unique()"
   ]
  },
  {
   "cell_type": "code",
   "execution_count": 33,
   "id": "bfb09cf7",
   "metadata": {},
   "outputs": [
    {
     "data": {
      "text/plain": [
       "array(['Super built-up  Area', 'Plot  Area', 'Built-up  Area',\n",
       "       'Carpet  Area'], dtype=object)"
      ]
     },
     "execution_count": 33,
     "metadata": {},
     "output_type": "execute_result"
    }
   ],
   "source": [
    "df['area_type'].unique()"
   ]
  },
  {
   "cell_type": "code",
   "execution_count": 34,
   "id": "adacc5ff",
   "metadata": {},
   "outputs": [
    {
     "data": {
      "text/plain": [
       "array(['Electronic City Phase II', 'Chikka Tirupathi', 'Uttarahalli', ...,\n",
       "       '12th cross srinivas nagar banshankari 3rd stage',\n",
       "       'Havanur extension', 'Abshot Layout'], dtype=object)"
      ]
     },
     "execution_count": 34,
     "metadata": {},
     "output_type": "execute_result"
    }
   ],
   "source": [
    "df['location'].unique()"
   ]
  },
  {
   "cell_type": "code",
   "execution_count": 35,
   "id": "741874f0",
   "metadata": {},
   "outputs": [
    {
     "data": {
      "text/plain": [
       "array(['2 BHK', '4 Bedroom', '3 BHK', '4 BHK', '6 Bedroom', '3 Bedroom',\n",
       "       '1 BHK', '1 RK', '1 Bedroom', '8 Bedroom', '2 Bedroom',\n",
       "       '7 Bedroom', '5 BHK', '7 BHK', '6 BHK', '5 Bedroom', '11 BHK',\n",
       "       '9 BHK', '9 Bedroom', '27 BHK', '10 Bedroom', '11 Bedroom',\n",
       "       '10 BHK', '19 BHK', '16 BHK', '43 Bedroom', '14 BHK', '8 BHK',\n",
       "       '12 Bedroom', '13 BHK', '18 Bedroom'], dtype=object)"
      ]
     },
     "execution_count": 35,
     "metadata": {},
     "output_type": "execute_result"
    }
   ],
   "source": [
    "df['size'].unique()"
   ]
  },
  {
   "cell_type": "code",
   "execution_count": 81,
   "id": "af712935",
   "metadata": {},
   "outputs": [
    {
     "data": {
      "text/plain": [
       "array(['Coomee ', 'Theanmp', 'GrrvaGr', ..., 'SJovest', 'ThhtsV ',\n",
       "       'RSntsAp'], dtype=object)"
      ]
     },
     "execution_count": 81,
     "metadata": {},
     "output_type": "execute_result"
    }
   ],
   "source": [
    "df['society'].unique()"
   ]
  },
  {
   "cell_type": "code",
   "execution_count": 95,
   "id": "eeea7579",
   "metadata": {},
   "outputs": [
    {
     "data": {
      "text/html": [
       "<div>\n",
       "<style scoped>\n",
       "    .dataframe tbody tr th:only-of-type {\n",
       "        vertical-align: middle;\n",
       "    }\n",
       "\n",
       "    .dataframe tbody tr th {\n",
       "        vertical-align: top;\n",
       "    }\n",
       "\n",
       "    .dataframe thead th {\n",
       "        text-align: right;\n",
       "    }\n",
       "</style>\n",
       "<table border=\"1\" class=\"dataframe\">\n",
       "  <thead>\n",
       "    <tr style=\"text-align: right;\">\n",
       "      <th></th>\n",
       "      <th>area_type</th>\n",
       "      <th>availability</th>\n",
       "      <th>location</th>\n",
       "      <th>size</th>\n",
       "      <th>society</th>\n",
       "      <th>total_sqft</th>\n",
       "      <th>bath</th>\n",
       "      <th>balcony</th>\n",
       "      <th>price</th>\n",
       "    </tr>\n",
       "  </thead>\n",
       "  <tbody>\n",
       "    <tr>\n",
       "      <th>0</th>\n",
       "      <td>Super built-up  Area</td>\n",
       "      <td>19-Dec</td>\n",
       "      <td>Electronic City Phase II</td>\n",
       "      <td>2 BHK</td>\n",
       "      <td>Coomee</td>\n",
       "      <td>1056</td>\n",
       "      <td>2.0</td>\n",
       "      <td>1.0</td>\n",
       "      <td>39.07</td>\n",
       "    </tr>\n",
       "    <tr>\n",
       "      <th>1</th>\n",
       "      <td>Plot  Area</td>\n",
       "      <td>Ready To Move</td>\n",
       "      <td>Chikka Tirupathi</td>\n",
       "      <td>4 Bedroom</td>\n",
       "      <td>Theanmp</td>\n",
       "      <td>2600</td>\n",
       "      <td>5.0</td>\n",
       "      <td>3.0</td>\n",
       "      <td>120.00</td>\n",
       "    </tr>\n",
       "    <tr>\n",
       "      <th>2</th>\n",
       "      <td>Built-up  Area</td>\n",
       "      <td>Ready To Move</td>\n",
       "      <td>Uttarahalli</td>\n",
       "      <td>3 BHK</td>\n",
       "      <td>GrrvaGr</td>\n",
       "      <td>1440</td>\n",
       "      <td>2.0</td>\n",
       "      <td>3.0</td>\n",
       "      <td>62.00</td>\n",
       "    </tr>\n",
       "    <tr>\n",
       "      <th>3</th>\n",
       "      <td>Super built-up  Area</td>\n",
       "      <td>Ready To Move</td>\n",
       "      <td>Lingadheeranahalli</td>\n",
       "      <td>3 BHK</td>\n",
       "      <td>Soiewre</td>\n",
       "      <td>1521</td>\n",
       "      <td>3.0</td>\n",
       "      <td>1.0</td>\n",
       "      <td>95.00</td>\n",
       "    </tr>\n",
       "    <tr>\n",
       "      <th>4</th>\n",
       "      <td>Super built-up  Area</td>\n",
       "      <td>Ready To Move</td>\n",
       "      <td>Kothanur</td>\n",
       "      <td>2 BHK</td>\n",
       "      <td>GrrvaGr</td>\n",
       "      <td>1200</td>\n",
       "      <td>2.0</td>\n",
       "      <td>1.0</td>\n",
       "      <td>51.00</td>\n",
       "    </tr>\n",
       "  </tbody>\n",
       "</table>\n",
       "</div>"
      ],
      "text/plain": [
       "              area_type   availability                  location       size  \\\n",
       "0  Super built-up  Area         19-Dec  Electronic City Phase II      2 BHK   \n",
       "1            Plot  Area  Ready To Move          Chikka Tirupathi  4 Bedroom   \n",
       "2        Built-up  Area  Ready To Move               Uttarahalli      3 BHK   \n",
       "3  Super built-up  Area  Ready To Move        Lingadheeranahalli      3 BHK   \n",
       "4  Super built-up  Area  Ready To Move                  Kothanur      2 BHK   \n",
       "\n",
       "   society total_sqft  bath  balcony   price  \n",
       "0  Coomee        1056   2.0      1.0   39.07  \n",
       "1  Theanmp       2600   5.0      3.0  120.00  \n",
       "2  GrrvaGr       1440   2.0      3.0   62.00  \n",
       "3  Soiewre       1521   3.0      1.0   95.00  \n",
       "4  GrrvaGr       1200   2.0      1.0   51.00  "
      ]
     },
     "execution_count": 95,
     "metadata": {},
     "output_type": "execute_result"
    }
   ],
   "source": [
    "df.head()"
   ]
  },
  {
   "cell_type": "markdown",
   "id": "bd83c743",
   "metadata": {},
   "source": [
    "<h2 style=\"color:purple\">Questions:"
   ]
  },
  {
   "cell_type": "markdown",
   "id": "dbb12e6d",
   "metadata": {},
   "source": [
    "<h3 style=\"color:tomato\">1.Which area have max no. of balcony?"
   ]
  },
  {
   "cell_type": "code",
   "execution_count": 83,
   "id": "4735ddc0",
   "metadata": {},
   "outputs": [
    {
     "data": {
      "text/plain": [
       "array(['Plot  Area', 'Built-up  Area', 'Super built-up  Area',\n",
       "       'Carpet  Area'], dtype=object)"
      ]
     },
     "execution_count": 83,
     "metadata": {},
     "output_type": "execute_result"
    }
   ],
   "source": [
    "df[df['balcony'] == df['balcony'].max()]['area_type'].unique()"
   ]
  },
  {
   "cell_type": "markdown",
   "id": "dd38f5c5",
   "metadata": {},
   "source": [
    "<h4 style=\"color:dodgerblue\">Ans: Every area have almost 3 balconies which is maximum"
   ]
  },
  {
   "cell_type": "markdown",
   "id": "757640ed",
   "metadata": {},
   "source": [
    "<h3 style=\"color:tomato\">2.Which price range have more than 2 bathroom and 2 balcony?"
   ]
  },
  {
   "cell_type": "code",
   "execution_count": 87,
   "id": "f0a27e2f",
   "metadata": {},
   "outputs": [],
   "source": [
    "df[(df['bath'] > 2) & (df['balcony'] > 2)]['price']\n",
    "min_price = df[(df['bath'] > 2) & (df['balcony'] > 2)]['price'].min()\n",
    "max_price = df[(df['bath'] > 2) & (df['balcony'] > 2)]['price'].max()"
   ]
  },
  {
   "cell_type": "code",
   "execution_count": 92,
   "id": "55352df7",
   "metadata": {},
   "outputs": [
    {
     "name": "stdout",
     "output_type": "stream",
     "text": [
      "Price range of house having more than 2 bathrooms and 2 balcony starts from Rs. 23.0 to Rs. 2800.0\n"
     ]
    }
   ],
   "source": [
    "print(\"Price range of house having more than 2 bathrooms and 2 balcony starts from Rs.\",min_price,\"to Rs.\",max_price)"
   ]
  },
  {
   "cell_type": "markdown",
   "id": "162e9618",
   "metadata": {},
   "source": [
    "<h4 style=\"color:dodgerblue\">Ans: Price range of house having more than 2 bathrooms and 2 balcony starts from Rs. 23.0 to Rs. 2800.0"
   ]
  },
  {
   "cell_type": "markdown",
   "id": "ab8da502",
   "metadata": {},
   "source": [
    "<h3 style=\"color:tomato\">3.Which society have best location?"
   ]
  },
  {
   "cell_type": "code",
   "execution_count": 97,
   "id": "3b21fce2",
   "metadata": {},
   "outputs": [
    {
     "data": {
      "text/html": [
       "<div>\n",
       "<style scoped>\n",
       "    .dataframe tbody tr th:only-of-type {\n",
       "        vertical-align: middle;\n",
       "    }\n",
       "\n",
       "    .dataframe tbody tr th {\n",
       "        vertical-align: top;\n",
       "    }\n",
       "\n",
       "    .dataframe thead th {\n",
       "        text-align: right;\n",
       "    }\n",
       "</style>\n",
       "<table border=\"1\" class=\"dataframe\">\n",
       "  <thead>\n",
       "    <tr style=\"text-align: right;\">\n",
       "      <th></th>\n",
       "      <th>bath</th>\n",
       "      <th>balcony</th>\n",
       "      <th>price</th>\n",
       "    </tr>\n",
       "    <tr>\n",
       "      <th>society</th>\n",
       "      <th></th>\n",
       "      <th></th>\n",
       "      <th></th>\n",
       "    </tr>\n",
       "  </thead>\n",
       "  <tbody>\n",
       "    <tr>\n",
       "      <th>3Codeli</th>\n",
       "      <td>2.000000</td>\n",
       "      <td>2.000000</td>\n",
       "      <td>58.500000</td>\n",
       "    </tr>\n",
       "    <tr>\n",
       "      <th>7 ise P</th>\n",
       "      <td>2.000000</td>\n",
       "      <td>1.000000</td>\n",
       "      <td>50.000000</td>\n",
       "    </tr>\n",
       "    <tr>\n",
       "      <th>A idse</th>\n",
       "      <td>2.000000</td>\n",
       "      <td>2.000000</td>\n",
       "      <td>50.000000</td>\n",
       "    </tr>\n",
       "    <tr>\n",
       "      <th>A rtsai</th>\n",
       "      <td>2.000000</td>\n",
       "      <td>1.000000</td>\n",
       "      <td>73.000000</td>\n",
       "    </tr>\n",
       "    <tr>\n",
       "      <th>ACersd</th>\n",
       "      <td>2.000000</td>\n",
       "      <td>2.000000</td>\n",
       "      <td>115.000000</td>\n",
       "    </tr>\n",
       "    <tr>\n",
       "      <th>...</th>\n",
       "      <td>...</td>\n",
       "      <td>...</td>\n",
       "      <td>...</td>\n",
       "    </tr>\n",
       "    <tr>\n",
       "      <th>Zonce E</th>\n",
       "      <td>3.500000</td>\n",
       "      <td>2.000000</td>\n",
       "      <td>98.750000</td>\n",
       "    </tr>\n",
       "    <tr>\n",
       "      <th>Zostaa</th>\n",
       "      <td>2.000000</td>\n",
       "      <td>1.000000</td>\n",
       "      <td>62.000000</td>\n",
       "    </tr>\n",
       "    <tr>\n",
       "      <th>i1ncyRe</th>\n",
       "      <td>2.000000</td>\n",
       "      <td>2.000000</td>\n",
       "      <td>50.000000</td>\n",
       "    </tr>\n",
       "    <tr>\n",
       "      <th>i1odsne</th>\n",
       "      <td>2.000000</td>\n",
       "      <td>1.000000</td>\n",
       "      <td>40.000000</td>\n",
       "    </tr>\n",
       "    <tr>\n",
       "      <th>i1rtsCo</th>\n",
       "      <td>2.333333</td>\n",
       "      <td>1.666667</td>\n",
       "      <td>60.216667</td>\n",
       "    </tr>\n",
       "  </tbody>\n",
       "</table>\n",
       "<p>2688 rows × 3 columns</p>\n",
       "</div>"
      ],
      "text/plain": [
       "             bath   balcony       price\n",
       "society                                \n",
       "3Codeli  2.000000  2.000000   58.500000\n",
       "7 ise P  2.000000  1.000000   50.000000\n",
       "A idse   2.000000  2.000000   50.000000\n",
       "A rtsai  2.000000  1.000000   73.000000\n",
       "ACersd   2.000000  2.000000  115.000000\n",
       "...           ...       ...         ...\n",
       "Zonce E  3.500000  2.000000   98.750000\n",
       "Zostaa   2.000000  1.000000   62.000000\n",
       "i1ncyRe  2.000000  2.000000   50.000000\n",
       "i1odsne  2.000000  1.000000   40.000000\n",
       "i1rtsCo  2.333333  1.666667   60.216667\n",
       "\n",
       "[2688 rows x 3 columns]"
      ]
     },
     "execution_count": 97,
     "metadata": {},
     "output_type": "execute_result"
    }
   ],
   "source": [
    "society = df.groupby(by='society').mean()\n",
    "society"
   ]
  },
  {
   "cell_type": "code",
   "execution_count": 124,
   "id": "e3c42616",
   "metadata": {},
   "outputs": [
    {
     "data": {
      "text/html": [
       "<div>\n",
       "<style scoped>\n",
       "    .dataframe tbody tr th:only-of-type {\n",
       "        vertical-align: middle;\n",
       "    }\n",
       "\n",
       "    .dataframe tbody tr th {\n",
       "        vertical-align: top;\n",
       "    }\n",
       "\n",
       "    .dataframe thead th {\n",
       "        text-align: right;\n",
       "    }\n",
       "</style>\n",
       "<table border=\"1\" class=\"dataframe\">\n",
       "  <thead>\n",
       "    <tr style=\"text-align: right;\">\n",
       "      <th></th>\n",
       "      <th>bath</th>\n",
       "      <th>balcony</th>\n",
       "      <th>price</th>\n",
       "    </tr>\n",
       "    <tr>\n",
       "      <th>society</th>\n",
       "      <th></th>\n",
       "      <th></th>\n",
       "      <th></th>\n",
       "    </tr>\n",
       "  </thead>\n",
       "  <tbody>\n",
       "    <tr>\n",
       "      <th>AVeldun</th>\n",
       "      <td>2.0</td>\n",
       "      <td>2.0</td>\n",
       "      <td>8.44</td>\n",
       "    </tr>\n",
       "  </tbody>\n",
       "</table>\n",
       "</div>"
      ],
      "text/plain": [
       "         bath  balcony  price\n",
       "society                      \n",
       "AVeldun   2.0      2.0   8.44"
      ]
     },
     "execution_count": 124,
     "metadata": {},
     "output_type": "execute_result"
    }
   ],
   "source": [
    "final = society[(society['bath'] == society['bath'].median()) &\n",
    "                (society['balcony'] == society['balcony'].median()) & (society['price'] < society['price'].median())]\n",
    "\n",
    "best_society = final[final['price'] == final['price'].min()].index[0]\n",
    "final[final['price'] == final['price'].min()]"
   ]
  },
  {
   "cell_type": "code",
   "execution_count": 125,
   "id": "1117a159",
   "metadata": {},
   "outputs": [
    {
     "name": "stdout",
     "output_type": "stream",
     "text": [
      "AVeldun society has best location which have 2 bath , 2 balcony and 2bhk in only Rs.8.44\n"
     ]
    }
   ],
   "source": [
    "print(best_society,\"society has best location which have 2 bath , 2 balcony and 2bhk in only Rs.8.44\")"
   ]
  },
  {
   "cell_type": "markdown",
   "id": "d86e8ed3",
   "metadata": {},
   "source": [
    "<h4 style=\"color:dodgerblue\">Ans: AVeldun society has best location which have 2 bath , 2 balcony and 2bhk in only Rs.8.44"
   ]
  },
  {
   "cell_type": "markdown",
   "id": "6ae20485",
   "metadata": {},
   "source": [
    "<h3 style=\"color:tomato\">4.Which area have minimum number of balcony but price range is maximum?"
   ]
  },
  {
   "cell_type": "code",
   "execution_count": 140,
   "id": "020091ce",
   "metadata": {},
   "outputs": [
    {
     "name": "stdout",
     "output_type": "stream",
     "text": [
      "Plot  Area has highest price with minimum balcony\n"
     ]
    }
   ],
   "source": [
    "min_balcony = df[df['balcony'] == df['balcony'].min()+1][['area_type','price']]\n",
    "min_balcony_max_price_series = min_balcony[min_balcony['price'] == min_balcony['price'].max()]['area_type']\n",
    "min_balcony_max_price = min_balcony_max_price_series.values[0]\n",
    "print(min_balcony_max_price,'has highest price with minimum balcony')"
   ]
  },
  {
   "cell_type": "markdown",
   "id": "a00565ab",
   "metadata": {},
   "source": [
    "<h4 style=\"color:dodgerblue\">Ans: Plot  Area has highest price with minimum balcony"
   ]
  },
  {
   "cell_type": "markdown",
   "id": "2cada5dc",
   "metadata": {},
   "source": [
    "<h3 style=\"color:tomato\">5.Which area have minimum price but highest number of balcony?"
   ]
  },
  {
   "cell_type": "code",
   "execution_count": 151,
   "id": "ec15fd08",
   "metadata": {},
   "outputs": [
    {
     "name": "stdout",
     "output_type": "stream",
     "text": [
      "Plot  Area has minimum price with maximum balcony\n"
     ]
    }
   ],
   "source": [
    "max_balcony = df[df['balcony'] == df['balcony'].max()][['area_type','price']]\n",
    "max_balcony_min_price_series = max_balcony[max_balcony['price'] == max_balcony['price'].min()]['area_type']\n",
    "max_balcony_min_price = max_balcony_min_price_series.values[0]\n",
    "print(max_balcony_min_price,'has minimum price with maximum balcony')"
   ]
  },
  {
   "cell_type": "markdown",
   "id": "49a3cac7",
   "metadata": {},
   "source": [
    "<h4 style=\"color:dodgerblue\">Ans: Plot  Area has minimum price with maximum balcony"
   ]
  },
  {
   "cell_type": "markdown",
   "id": "c695c148",
   "metadata": {},
   "source": [
    "<h3 style=\"color:tomato\">6.Which area have lowest number of bathroom?"
   ]
  },
  {
   "cell_type": "code",
   "execution_count": 158,
   "id": "51c3756e",
   "metadata": {},
   "outputs": [
    {
     "name": "stdout",
     "output_type": "stream",
     "text": [
      "Areas with minimum bathroom are:\n",
      "1.Built-up  Area\n",
      "2.Super built-up  Area\n",
      "3.Plot  Area\n",
      "4.Carpet  Area\n"
     ]
    }
   ],
   "source": [
    "area_with_min_bath = df[df['bath'] == df['bath'].min()]['area_type'].unique()\n",
    "print(\"Areas with minimum bathroom are:\")\n",
    "for i,var in enumerate(area_with_min_bath):\n",
    "    print(i+1,var,sep=\".\")"
   ]
  },
  {
   "cell_type": "markdown",
   "id": "b11e0b0c",
   "metadata": {},
   "source": [
    "<pre><h4 style=\"color:dodgerblue\">Ans: \n",
    "Areas with minimum bathroom are:\n",
    "    1.Built-up  Area\n",
    "    2.Super built-up  Area\n",
    "    3.Plot  Area\n",
    "    4.Carpet  Area"
   ]
  },
  {
   "cell_type": "markdown",
   "id": "4053655a",
   "metadata": {},
   "source": [
    "<h3 style=\"color:tomato\">7.What is price range of 2bhk with balcony?"
   ]
  },
  {
   "cell_type": "code",
   "execution_count": 190,
   "id": "5fd9f3ad",
   "metadata": {},
   "outputs": [
    {
     "name": "stdout",
     "output_type": "stream",
     "text": [
      "Price range of 2 bhk house with balcony is Rs. 8.44 lac to Rs. 475.0 lac\n"
     ]
    }
   ],
   "source": [
    "df[(df['balcony'] > 1) & (df['size']=='2 BHK')]['price']\n",
    "min_price_with_balcony = df[(df['balcony'] > 1) & (df['size']=='2 BHK')]['price'].min() \n",
    "max_price_with_balcony = df[(df['balcony'] > 1) & (df['size']=='2 BHK')]['price'].max()\n",
    "print(\"Price range of 2 bhk house with balcony is Rs.\",min_price_with_balcony,\"lac to Rs.\",max_price_with_balcony,'lac')"
   ]
  },
  {
   "cell_type": "markdown",
   "id": "a90f4d70",
   "metadata": {},
   "source": [
    "<h4 style=\"color:dodgerblue\">Ans: Price range of 2 bhk house with balcony is Rs. 8.44 to Rs. 475.0"
   ]
  },
  {
   "cell_type": "markdown",
   "id": "b9f3ff90",
   "metadata": {},
   "source": [
    "<h3 style=\"color:tomato\">8.What is price  of 2bhk house in whitfeild area?"
   ]
  },
  {
   "cell_type": "code",
   "execution_count": 191,
   "id": "59d8ef52",
   "metadata": {},
   "outputs": [
    {
     "name": "stdout",
     "output_type": "stream",
     "text": [
      "Price of 2bhk in whitefiled is 32.73\n"
     ]
    }
   ],
   "source": [
    "whitefiled_price_3bhk = df[(df['location'] == 'whitefiled') & (df['size']=='2 BHK')]['price']\n",
    "price_2bhk_whitefiled = whitefiled_price_3bhk.values[0]\n",
    "print(\"Price of 2bhk in whitefiled is\",price_2bhk_whitefiled)"
   ]
  },
  {
   "cell_type": "markdown",
   "id": "c6277b52",
   "metadata": {},
   "source": [
    "<h4 style=\"color:dodgerblue\">Ans: Price of 2 bhk house in whitefiled location is Rs.32.73"
   ]
  },
  {
   "cell_type": "markdown",
   "id": "7f49d991",
   "metadata": {},
   "source": [
    "<h3 style=\"color:tomato\">9.What is the average cost of living in Bengaluru?"
   ]
  },
  {
   "cell_type": "code",
   "execution_count": 192,
   "id": "25578cfa",
   "metadata": {},
   "outputs": [
    {
     "name": "stdout",
     "output_type": "stream",
     "text": [
      "Average price of living in Bengalore is 112.56562650150138\n"
     ]
    }
   ],
   "source": [
    "averge_price = df['price'].mean()\n",
    "print(\"Average price of living in Bengalore is\",averge_price)"
   ]
  },
  {
   "cell_type": "markdown",
   "id": "79c4bb09",
   "metadata": {},
   "source": [
    "<h4 style=\"color:dodgerblue\">Ans: Average price of living in Bengalore is 112.56562650150138"
   ]
  },
  {
   "cell_type": "markdown",
   "id": "74073037",
   "metadata": {},
   "source": [
    "<h3 style=\"color:tomato\">10.What is minimum and maximum budget one should have to buy 2bhk or 3bhk in bengaluru?"
   ]
  },
  {
   "cell_type": "code",
   "execution_count": 199,
   "id": "c06111da",
   "metadata": {},
   "outputs": [
    {
     "name": "stdout",
     "output_type": "stream",
     "text": [
      "Minimum price for 2bhk or 3bhk house to buy is 8.44\n",
      "Maximum price for 2bhk or 3bhk house to buy is 1015.0\n"
     ]
    }
   ],
   "source": [
    "df[(df['size'] == '2 BHK') | (df['size']=='3 BHK')]['price']\n",
    "min_price_2_3_bhk = df[(df['size'] == '2 BHK') | (df['size']=='3 BHK')]['price'].min()\n",
    "max_price_2_3_bhk = df[(df['size'] == '2 BHK') | (df['size']=='3 BHK')]['price'].max()\n",
    "print(\"Minimum price for 2bhk or 3bhk house to buy is\",min_price_2_3_bhk)\n",
    "print(\"Maximum price for 2bhk or 3bhk house to buy is\",max_price_2_3_bhk)"
   ]
  },
  {
   "cell_type": "markdown",
   "id": "26e59865",
   "metadata": {},
   "source": [
    "<pre><h4 style=\"color:dodgerblue\">Ans: \n",
    "Minimum price for 2bhk or 3bhk house to buy is 8.44\n",
    "Maximum price for 2bhk or 3bhk house to buy is 1015.0"
   ]
  },
  {
   "cell_type": "markdown",
   "id": "5e297f1e",
   "metadata": {},
   "source": [
    "<h3 style=\"color:tomato\">11.What will be the budget one should have who want atleast 3 bathroom , 2 balcony in location Electronic phase II? "
   ]
  },
  {
   "cell_type": "code",
   "execution_count": 212,
   "id": "c96bbbe3",
   "metadata": {},
   "outputs": [
    {
     "name": "stdout",
     "output_type": "stream",
     "text": [
      "To buy a house in Electronic City Phase II having atleast 3 bahroom and 2 balcony , one should have bidget from Rs. 46.0 to Rs. 116.0\n"
     ]
    }
   ],
   "source": [
    "df[(df['location'] == 'Electronic City Phase II') & (df['bath']>=3) & (df['balcony']>=2)]['price']\n",
    "min_price_e_phase2 = df[(df['location'] == 'Electronic City Phase II') & (df['bath']>=3) & (df['balcony']>=2)]['price'].min()\n",
    "max_price_e_phase2 = df[(df['location'] == 'Electronic City Phase II') & (df['bath']>=3) & (df['balcony']>=2)]['price'].max()\n",
    "print(\"To buy a house in Electronic City Phase II having atleast 3 bahroom and 2 balcony , one should have bidget from Rs.\",min_price_e_phase2,\"to Rs.\",max_price_e_phase2)"
   ]
  },
  {
   "cell_type": "markdown",
   "id": "04a9b656",
   "metadata": {},
   "source": [
    "<pre><h4 style=\"color:dodgerblue\">Ans: To buy a house in Electronic City Phase II having atleast 3 bahroom and 2 balcony , \n",
    "one should have bidget from Rs. 46.0 to Rs. 116.0\n"
   ]
  },
  {
   "cell_type": "code",
   "execution_count": null,
   "id": "6bc0ff3a",
   "metadata": {},
   "outputs": [],
   "source": []
  },
  {
   "cell_type": "code",
   "execution_count": null,
   "id": "11532b54",
   "metadata": {},
   "outputs": [],
   "source": []
  }
 ],
 "metadata": {
  "kernelspec": {
   "display_name": "Python 3",
   "language": "python",
   "name": "python3"
  },
  "language_info": {
   "codemirror_mode": {
    "name": "ipython",
    "version": 3
   },
   "file_extension": ".py",
   "mimetype": "text/x-python",
   "name": "python",
   "nbconvert_exporter": "python",
   "pygments_lexer": "ipython3",
   "version": "3.8.8"
  }
 },
 "nbformat": 4,
 "nbformat_minor": 5
}
