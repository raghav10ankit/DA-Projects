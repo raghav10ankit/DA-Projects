{
 "cells": [
  {
   "cell_type": "code",
   "execution_count": 1,
   "id": "04cda607",
   "metadata": {},
   "outputs": [],
   "source": [
    "import requests\n",
    "import pandas as pd\n",
    "from bs4 import BeautifulSoup"
   ]
  },
  {
   "cell_type": "code",
   "execution_count": 3,
   "id": "1dfb5580",
   "metadata": {},
   "outputs": [
    {
     "data": {
      "text/plain": [
       "200"
      ]
     },
     "execution_count": 3,
     "metadata": {},
     "output_type": "execute_result"
    }
   ],
   "source": [
    "url = 'https://github.com/trending'\n",
    "response = requests.get(url)\n",
    "response.status_code"
   ]
  },
  {
   "cell_type": "code",
   "execution_count": 4,
   "id": "a4cd271d",
   "metadata": {},
   "outputs": [
    {
     "data": {
      "text/plain": [
       "'\\n\\n<!DOCTYPE html>\\n<html lang=\"en\" data-color-mode=\"auto\" data-light-theme=\"light\" data-dark-theme=\"d'"
      ]
     },
     "execution_count": 4,
     "metadata": {},
     "output_type": "execute_result"
    }
   ],
   "source": [
    "page_content = response.text\n",
    "page_content[:100]"
   ]
  },
  {
   "cell_type": "code",
   "execution_count": 6,
   "id": "c4525d0a",
   "metadata": {},
   "outputs": [],
   "source": [
    "with open('trending.html','w',encoding='utf-8') as f:\n",
    "    f.write(page_content)"
   ]
  },
  {
   "cell_type": "markdown",
   "id": "c0b13258",
   "metadata": {},
   "source": [
    "<h3>Beautiful Soup"
   ]
  },
  {
   "cell_type": "code",
   "execution_count": 5,
   "id": "f5f8ee02",
   "metadata": {},
   "outputs": [],
   "source": [
    "data = BeautifulSoup(page_content,'html.parser')"
   ]
  },
  {
   "cell_type": "markdown",
   "id": "d35b4af4",
   "metadata": {},
   "source": [
    "<h4> For username and repository name"
   ]
  },
  {
   "cell_type": "code",
   "execution_count": 16,
   "id": "3041cc9c",
   "metadata": {},
   "outputs": [],
   "source": [
    "h1 = data.find_all('h1',class_='h3 lh-condensed')"
   ]
  },
  {
   "cell_type": "code",
   "execution_count": 25,
   "id": "e846ed6d",
   "metadata": {},
   "outputs": [
    {
     "name": "stdout",
     "output_type": "stream",
     "text": [
      "['bytedance /\\n\\n      btrace', 'sindresorhus /\\n\\n      awesome', 'google /\\n\\n      log4jscanner', 'DataTalksClub /\\n\\n      data-engineering-zoomcamp', 'PaddlePaddle /\\n\\n      PaddleDetection', 'papers-we-love /\\n\\n      papers-we-love', 'google /\\n\\n      python-fire', 'donnemartin /\\n\\n      system-design-primer', 'youngyangyang04 /\\n\\n      leetcode-master', 'ja-netfilter /\\n\\n      ja-netfilter', 'angular /\\n\\n      angular', 'MicrosoftLearning /\\n\\n      AZ-204-DevelopingSolutionsforMicrosoftAzure', 'dfir-iris /\\n\\n      iris-web', 'CleverRaven /\\n\\n      Cataclysm-DDA', 'ZLMediaKit /\\n\\n      ZLMediaKit', 'element-plus /\\n\\n      element-plus', 'Mas0nShi /\\n\\n      typoraCracker', 'gatsbyjs /\\n\\n      gatsby', 'google /\\n\\n      gvisor', 'facebook /\\n\\n      react-native', 'hibiken /\\n\\n      asynq', 'alibaba /\\n\\n      formily', 'skyline-emu /\\n\\n      skyline', 'vnpy /\\n\\n      vnpy']\n"
     ]
    }
   ],
   "source": [
    "names = []\n",
    "for i in h1:\n",
    "    name = i.find('a').text\n",
    "#     print(sp.strip())\n",
    "    names.append(name.strip())\n",
    "#     print(name)\n",
    "print(names)"
   ]
  },
  {
   "cell_type": "markdown",
   "id": "866a574e",
   "metadata": {},
   "source": [
    "<h4> For language"
   ]
  },
  {
   "cell_type": "code",
   "execution_count": 38,
   "id": "b707fbfc",
   "metadata": {},
   "outputs": [
    {
     "name": "stdout",
     "output_type": "stream",
     "text": [
      "['Kotlin', 'Built by', 'Go', 'Built by', 'Python', 'Shell', 'Python', 'Python', 'Built by', 'Java', 'TypeScript', 'C#', 'JavaScript', 'C++', 'C++', 'Vue', 'Python', 'JavaScript', 'Go', 'JavaScript', 'Go', 'TypeScript', 'C++', 'Python']\n"
     ]
    }
   ],
   "source": [
    "field = data.find_all('div',class_='f6 color-fg-muted mt-2')\n",
    "categories = []\n",
    "for i in field:\n",
    "    category = i.find('span').text\n",
    "#     print(category)\n",
    "    categories.append(category.strip())\n",
    "print(categories)    "
   ]
  },
  {
   "cell_type": "markdown",
   "id": "d1ea7e34",
   "metadata": {},
   "source": [
    "<h4>For stars"
   ]
  },
  {
   "cell_type": "code",
   "execution_count": 58,
   "id": "77cedfd1",
   "metadata": {},
   "outputs": [
    {
     "name": "stdout",
     "output_type": "stream",
     "text": [
      "['654', '182,542', '561', '623', '6,029', '51,388', '21,467', '156,839', '20,676', '2,524', '78,583', '1,245', '151', '6,184', '5,377', '13,316', '645', '52,062', '12,233', '100,218', '2,237', '6,878', '2,531', '17,199']\n"
     ]
    }
   ],
   "source": [
    "rating = data.find_all('div',class_='f6 color-fg-muted mt-2')\n",
    "stars = []\n",
    "for i in rating:\n",
    "    s = i.find_all('a',class_='Link--muted d-inline-block mr-3')\n",
    "    star = s[0].text\n",
    "    stars.append(star.strip())\n",
    "print(stars)    "
   ]
  },
  {
   "cell_type": "markdown",
   "id": "6c0e91dc",
   "metadata": {},
   "source": [
    "<h4>For repos"
   ]
  },
  {
   "cell_type": "code",
   "execution_count": 60,
   "id": "795be403",
   "metadata": {},
   "outputs": [
    {
     "name": "stdout",
     "output_type": "stream",
     "text": [
      "['86', '22,456', '45', '95', '1,512', '4,340', '1,255', '28,946', '5,291', '640', '20,632', '967', '11', '3,027', '1,492', '2,480', '230', '10,073', '1,010', '21,593', '175', '879', '475', '6,919']\n"
     ]
    }
   ],
   "source": [
    "repo_counts = data.find_all('div',class_='f6 color-fg-muted mt-2')\n",
    "repos = []\n",
    "for i in repo_counts:\n",
    "    r = i.find_all('a',class_='Link--muted d-inline-block mr-3')\n",
    "    repo = r[1].text\n",
    "    repos.append(repo.strip())\n",
    "print(repos)    "
   ]
  },
  {
   "cell_type": "markdown",
   "id": "ff74d31f",
   "metadata": {},
   "source": [
    "<h4>Split name data to get username and repos name seperately"
   ]
  },
  {
   "cell_type": "code",
   "execution_count": 71,
   "id": "fcf7d928",
   "metadata": {},
   "outputs": [
    {
     "name": "stdout",
     "output_type": "stream",
     "text": [
      "['bytedance ', 'sindresorhus ', 'google ', 'DataTalksClub ', 'PaddlePaddle ', 'papers-we-love ', 'google ', 'donnemartin ', 'youngyangyang04 ', 'ja-netfilter ', 'angular ', 'MicrosoftLearning ', 'dfir-iris ', 'CleverRaven ', 'ZLMediaKit ', 'element-plus ', 'Mas0nShi ', 'gatsbyjs ', 'google ', 'facebook ', 'hibiken ', 'alibaba ', 'skyline-emu ', 'vnpy ']\n",
      "['btrace', 'awesome', 'log4jscanner', 'data-engineering-zoomcamp', 'PaddleDetection', 'papers-we-love', 'python-fire', 'system-design-primer', 'leetcode-master', 'ja-netfilter', 'angular', 'AZ-204-DevelopingSolutionsforMicrosoftAzure', 'iris-web', 'Cataclysm-DDA', 'ZLMediaKit', 'element-plus', 'typoraCracker', 'gatsby', 'gvisor', 'react-native', 'asynq', 'formily', 'skyline', 'vnpy']\n"
     ]
    }
   ],
   "source": [
    "username = []\n",
    "repo_name = []\n",
    "for i in names:\n",
    "    x = i.split('/')\n",
    "    username.append(x[0])\n",
    "    repo_name.append(x[1].strip())\n",
    "print(username) \n",
    "print(repo_name)"
   ]
  },
  {
   "cell_type": "code",
   "execution_count": 129,
   "id": "9e881033",
   "metadata": {},
   "outputs": [
    {
     "name": "stdout",
     "output_type": "stream",
     "text": [
      "['🔥🔥 btrace(AKA RheaTrace) is a high performance Android trace tool which is based on Systrace, it support to define custom events automatically during building apk and using bhook to provider more native events like IO.', '😎 Awesome lists about all kinds of interesting topics', None, 'Code for Data Engineer Zoomcamp course', 'Object Detection toolkit based on PaddlePaddle. It supports object detection, instance segmentation, multiple object tracking and real-time multi-person keypoint detection.', 'Papers from the computer science community to read and discuss.', 'Python Fire is a library for automatically generating command line interfaces (CLIs) from absolutely any Python object.', 'Learn how to design large-scale systems. Prep for the system design interview. Includes Anki flashcards.', '《代码随想录》LeetCode 刷题攻略：200道经典题目刷题顺序，共60w字的详细图解，视频难点剖析，50余张思维导图，支持C++，Java，Python，Go，JavaScript等多语言版本，从此算法学习不再迷茫！🔥🔥 来看看，你会发现相见恨晚！🚀', 'A javaagent framework', 'The modern web developer’s platform', 'AZ-204: Developing solutions for Microsoft Azure', 'Incident Response collaborative platform', 'Cataclysm - Dark Days Ahead. A turn-based survival game set in a post-apocalyptic world.', 'WebRTC/RTSP/RTMP/HTTP/HLS/HTTP-FLV/WebSocket-FLV/HTTP-TS/HTTP-fMP4/WebSocket-TS/WebSocket-fMP4/GB28181 server and client framework based on C++11', '🎉 A Vue.js 3 UI Library made by Element team', 'A extract & decryption and pack & encryption tools for typora.', 'Build blazing fast, modern apps and websites with React', 'Application Kernel for Containers', 'A framework for building native applications using React', 'Asynq: simple, reliable, and efficient distributed task queue in Go', 'Alibaba Group Unified Form Solution -- Support React/ReactNative/Vue2/Vue3', 'Run Nintendo Switch homebrew & games on your Android device!', '基于Python的开源量化交易平台开发框架']\n"
     ]
    }
   ],
   "source": [
    "desc = data.find_all('article',class_='Box-row')\n",
    "repo_desc = []\n",
    "for i in desc:\n",
    "    x = i.find('p',class_='col-9 color-fg-muted my-1 pr-4')\n",
    "#     print(x) \n",
    "    repo_desc.append(x)\n",
    "\n",
    "repo_detail = []    \n",
    "for j in repo_desc:\n",
    "    if j == None:\n",
    "        repo_detail.append(j)\n",
    "    else:\n",
    "        r = j.text\n",
    "        repo_detail.append(r.strip())\n",
    "print(repo_detail)        "
   ]
  },
  {
   "cell_type": "markdown",
   "id": "9c0cfb07",
   "metadata": {},
   "source": [
    "<h3>All basic info is extracted\n",
    "<h3> Now creating dataframe using pandas    "
   ]
  },
  {
   "cell_type": "code",
   "execution_count": null,
   "id": "86700c07",
   "metadata": {},
   "outputs": [],
   "source": []
  },
  {
   "cell_type": "code",
   "execution_count": 130,
   "id": "28ae3f12",
   "metadata": {},
   "outputs": [],
   "source": [
    "trend_repo = pd.DataFrame({\n",
    "    'user_name': username,\n",
    "    'repo_name': repo_name,\n",
    "    'repo_desc': repo_detail,\n",
    "    'repo_stars': stars,\n",
    "    'repo_count': repos\n",
    "})"
   ]
  },
  {
   "cell_type": "code",
   "execution_count": 131,
   "id": "fa314a19",
   "metadata": {},
   "outputs": [
    {
     "data": {
      "text/html": [
       "<div>\n",
       "<style scoped>\n",
       "    .dataframe tbody tr th:only-of-type {\n",
       "        vertical-align: middle;\n",
       "    }\n",
       "\n",
       "    .dataframe tbody tr th {\n",
       "        vertical-align: top;\n",
       "    }\n",
       "\n",
       "    .dataframe thead th {\n",
       "        text-align: right;\n",
       "    }\n",
       "</style>\n",
       "<table border=\"1\" class=\"dataframe\">\n",
       "  <thead>\n",
       "    <tr style=\"text-align: right;\">\n",
       "      <th></th>\n",
       "      <th>user_name</th>\n",
       "      <th>repo_name</th>\n",
       "      <th>repo_desc</th>\n",
       "      <th>repo_stars</th>\n",
       "      <th>repo_count</th>\n",
       "    </tr>\n",
       "  </thead>\n",
       "  <tbody>\n",
       "    <tr>\n",
       "      <th>0</th>\n",
       "      <td>bytedance</td>\n",
       "      <td>btrace</td>\n",
       "      <td>🔥🔥 btrace(AKA RheaTrace) is a high performance...</td>\n",
       "      <td>654</td>\n",
       "      <td>86</td>\n",
       "    </tr>\n",
       "    <tr>\n",
       "      <th>1</th>\n",
       "      <td>sindresorhus</td>\n",
       "      <td>awesome</td>\n",
       "      <td>😎 Awesome lists about all kinds of interesting...</td>\n",
       "      <td>182,542</td>\n",
       "      <td>22,456</td>\n",
       "    </tr>\n",
       "    <tr>\n",
       "      <th>2</th>\n",
       "      <td>google</td>\n",
       "      <td>log4jscanner</td>\n",
       "      <td>None</td>\n",
       "      <td>561</td>\n",
       "      <td>45</td>\n",
       "    </tr>\n",
       "    <tr>\n",
       "      <th>3</th>\n",
       "      <td>DataTalksClub</td>\n",
       "      <td>data-engineering-zoomcamp</td>\n",
       "      <td>Code for Data Engineer Zoomcamp course</td>\n",
       "      <td>623</td>\n",
       "      <td>95</td>\n",
       "    </tr>\n",
       "    <tr>\n",
       "      <th>4</th>\n",
       "      <td>PaddlePaddle</td>\n",
       "      <td>PaddleDetection</td>\n",
       "      <td>Object Detection toolkit based on PaddlePaddle...</td>\n",
       "      <td>6,029</td>\n",
       "      <td>1,512</td>\n",
       "    </tr>\n",
       "    <tr>\n",
       "      <th>5</th>\n",
       "      <td>papers-we-love</td>\n",
       "      <td>papers-we-love</td>\n",
       "      <td>Papers from the computer science community to ...</td>\n",
       "      <td>51,388</td>\n",
       "      <td>4,340</td>\n",
       "    </tr>\n",
       "    <tr>\n",
       "      <th>6</th>\n",
       "      <td>google</td>\n",
       "      <td>python-fire</td>\n",
       "      <td>Python Fire is a library for automatically gen...</td>\n",
       "      <td>21,467</td>\n",
       "      <td>1,255</td>\n",
       "    </tr>\n",
       "    <tr>\n",
       "      <th>7</th>\n",
       "      <td>donnemartin</td>\n",
       "      <td>system-design-primer</td>\n",
       "      <td>Learn how to design large-scale systems. Prep ...</td>\n",
       "      <td>156,839</td>\n",
       "      <td>28,946</td>\n",
       "    </tr>\n",
       "    <tr>\n",
       "      <th>8</th>\n",
       "      <td>youngyangyang04</td>\n",
       "      <td>leetcode-master</td>\n",
       "      <td>《代码随想录》LeetCode 刷题攻略：200道经典题目刷题顺序，共60w字的详细图解，视...</td>\n",
       "      <td>20,676</td>\n",
       "      <td>5,291</td>\n",
       "    </tr>\n",
       "    <tr>\n",
       "      <th>9</th>\n",
       "      <td>ja-netfilter</td>\n",
       "      <td>ja-netfilter</td>\n",
       "      <td>A javaagent framework</td>\n",
       "      <td>2,524</td>\n",
       "      <td>640</td>\n",
       "    </tr>\n",
       "    <tr>\n",
       "      <th>10</th>\n",
       "      <td>angular</td>\n",
       "      <td>angular</td>\n",
       "      <td>The modern web developer’s platform</td>\n",
       "      <td>78,583</td>\n",
       "      <td>20,632</td>\n",
       "    </tr>\n",
       "    <tr>\n",
       "      <th>11</th>\n",
       "      <td>MicrosoftLearning</td>\n",
       "      <td>AZ-204-DevelopingSolutionsforMicrosoftAzure</td>\n",
       "      <td>AZ-204: Developing solutions for Microsoft Azure</td>\n",
       "      <td>1,245</td>\n",
       "      <td>967</td>\n",
       "    </tr>\n",
       "    <tr>\n",
       "      <th>12</th>\n",
       "      <td>dfir-iris</td>\n",
       "      <td>iris-web</td>\n",
       "      <td>Incident Response collaborative platform</td>\n",
       "      <td>151</td>\n",
       "      <td>11</td>\n",
       "    </tr>\n",
       "    <tr>\n",
       "      <th>13</th>\n",
       "      <td>CleverRaven</td>\n",
       "      <td>Cataclysm-DDA</td>\n",
       "      <td>Cataclysm - Dark Days Ahead. A turn-based surv...</td>\n",
       "      <td>6,184</td>\n",
       "      <td>3,027</td>\n",
       "    </tr>\n",
       "    <tr>\n",
       "      <th>14</th>\n",
       "      <td>ZLMediaKit</td>\n",
       "      <td>ZLMediaKit</td>\n",
       "      <td>WebRTC/RTSP/RTMP/HTTP/HLS/HTTP-FLV/WebSocket-F...</td>\n",
       "      <td>5,377</td>\n",
       "      <td>1,492</td>\n",
       "    </tr>\n",
       "    <tr>\n",
       "      <th>15</th>\n",
       "      <td>element-plus</td>\n",
       "      <td>element-plus</td>\n",
       "      <td>🎉 A Vue.js 3 UI Library made by Element team</td>\n",
       "      <td>13,316</td>\n",
       "      <td>2,480</td>\n",
       "    </tr>\n",
       "    <tr>\n",
       "      <th>16</th>\n",
       "      <td>Mas0nShi</td>\n",
       "      <td>typoraCracker</td>\n",
       "      <td>A extract &amp; decryption and pack &amp; encryption t...</td>\n",
       "      <td>645</td>\n",
       "      <td>230</td>\n",
       "    </tr>\n",
       "    <tr>\n",
       "      <th>17</th>\n",
       "      <td>gatsbyjs</td>\n",
       "      <td>gatsby</td>\n",
       "      <td>Build blazing fast, modern apps and websites w...</td>\n",
       "      <td>52,062</td>\n",
       "      <td>10,073</td>\n",
       "    </tr>\n",
       "    <tr>\n",
       "      <th>18</th>\n",
       "      <td>google</td>\n",
       "      <td>gvisor</td>\n",
       "      <td>Application Kernel for Containers</td>\n",
       "      <td>12,233</td>\n",
       "      <td>1,010</td>\n",
       "    </tr>\n",
       "    <tr>\n",
       "      <th>19</th>\n",
       "      <td>facebook</td>\n",
       "      <td>react-native</td>\n",
       "      <td>A framework for building native applications u...</td>\n",
       "      <td>100,218</td>\n",
       "      <td>21,593</td>\n",
       "    </tr>\n",
       "    <tr>\n",
       "      <th>20</th>\n",
       "      <td>hibiken</td>\n",
       "      <td>asynq</td>\n",
       "      <td>Asynq: simple, reliable, and efficient distrib...</td>\n",
       "      <td>2,237</td>\n",
       "      <td>175</td>\n",
       "    </tr>\n",
       "    <tr>\n",
       "      <th>21</th>\n",
       "      <td>alibaba</td>\n",
       "      <td>formily</td>\n",
       "      <td>Alibaba Group Unified Form Solution -- Support...</td>\n",
       "      <td>6,878</td>\n",
       "      <td>879</td>\n",
       "    </tr>\n",
       "    <tr>\n",
       "      <th>22</th>\n",
       "      <td>skyline-emu</td>\n",
       "      <td>skyline</td>\n",
       "      <td>Run Nintendo Switch homebrew &amp; games on your A...</td>\n",
       "      <td>2,531</td>\n",
       "      <td>475</td>\n",
       "    </tr>\n",
       "    <tr>\n",
       "      <th>23</th>\n",
       "      <td>vnpy</td>\n",
       "      <td>vnpy</td>\n",
       "      <td>基于Python的开源量化交易平台开发框架</td>\n",
       "      <td>17,199</td>\n",
       "      <td>6,919</td>\n",
       "    </tr>\n",
       "  </tbody>\n",
       "</table>\n",
       "</div>"
      ],
      "text/plain": [
       "             user_name                                    repo_name  \\\n",
       "0           bytedance                                        btrace   \n",
       "1        sindresorhus                                       awesome   \n",
       "2              google                                  log4jscanner   \n",
       "3       DataTalksClub                     data-engineering-zoomcamp   \n",
       "4        PaddlePaddle                               PaddleDetection   \n",
       "5      papers-we-love                                papers-we-love   \n",
       "6              google                                   python-fire   \n",
       "7         donnemartin                          system-design-primer   \n",
       "8     youngyangyang04                               leetcode-master   \n",
       "9        ja-netfilter                                  ja-netfilter   \n",
       "10            angular                                       angular   \n",
       "11  MicrosoftLearning   AZ-204-DevelopingSolutionsforMicrosoftAzure   \n",
       "12          dfir-iris                                      iris-web   \n",
       "13        CleverRaven                                 Cataclysm-DDA   \n",
       "14         ZLMediaKit                                    ZLMediaKit   \n",
       "15       element-plus                                  element-plus   \n",
       "16           Mas0nShi                                 typoraCracker   \n",
       "17           gatsbyjs                                        gatsby   \n",
       "18             google                                        gvisor   \n",
       "19           facebook                                  react-native   \n",
       "20            hibiken                                         asynq   \n",
       "21            alibaba                                       formily   \n",
       "22        skyline-emu                                       skyline   \n",
       "23               vnpy                                          vnpy   \n",
       "\n",
       "                                            repo_desc repo_stars repo_count  \n",
       "0   🔥🔥 btrace(AKA RheaTrace) is a high performance...        654         86  \n",
       "1   😎 Awesome lists about all kinds of interesting...    182,542     22,456  \n",
       "2                                                None        561         45  \n",
       "3              Code for Data Engineer Zoomcamp course        623         95  \n",
       "4   Object Detection toolkit based on PaddlePaddle...      6,029      1,512  \n",
       "5   Papers from the computer science community to ...     51,388      4,340  \n",
       "6   Python Fire is a library for automatically gen...     21,467      1,255  \n",
       "7   Learn how to design large-scale systems. Prep ...    156,839     28,946  \n",
       "8   《代码随想录》LeetCode 刷题攻略：200道经典题目刷题顺序，共60w字的详细图解，视...     20,676      5,291  \n",
       "9                               A javaagent framework      2,524        640  \n",
       "10                The modern web developer’s platform     78,583     20,632  \n",
       "11   AZ-204: Developing solutions for Microsoft Azure      1,245        967  \n",
       "12           Incident Response collaborative platform        151         11  \n",
       "13  Cataclysm - Dark Days Ahead. A turn-based surv...      6,184      3,027  \n",
       "14  WebRTC/RTSP/RTMP/HTTP/HLS/HTTP-FLV/WebSocket-F...      5,377      1,492  \n",
       "15       🎉 A Vue.js 3 UI Library made by Element team     13,316      2,480  \n",
       "16  A extract & decryption and pack & encryption t...        645        230  \n",
       "17  Build blazing fast, modern apps and websites w...     52,062     10,073  \n",
       "18                  Application Kernel for Containers     12,233      1,010  \n",
       "19  A framework for building native applications u...    100,218     21,593  \n",
       "20  Asynq: simple, reliable, and efficient distrib...      2,237        175  \n",
       "21  Alibaba Group Unified Form Solution -- Support...      6,878        879  \n",
       "22  Run Nintendo Switch homebrew & games on your A...      2,531        475  \n",
       "23                              基于Python的开源量化交易平台开发框架     17,199      6,919  "
      ]
     },
     "execution_count": 131,
     "metadata": {},
     "output_type": "execute_result"
    }
   ],
   "source": [
    "trend_repo"
   ]
  },
  {
   "cell_type": "markdown",
   "id": "93909066",
   "metadata": {},
   "source": [
    "<h3> Converting data into csv file"
   ]
  },
  {
   "cell_type": "code",
   "execution_count": 134,
   "id": "7d1fb59c",
   "metadata": {},
   "outputs": [],
   "source": [
    "trend_repo.to_csv('github_trending_repo.csv',index=False)"
   ]
  },
  {
   "cell_type": "markdown",
   "id": "fdcf0700",
   "metadata": {},
   "source": [
    "<img src='trending_gitrepo.png'>"
   ]
  },
  {
   "cell_type": "code",
   "execution_count": null,
   "id": "889b8f35",
   "metadata": {},
   "outputs": [],
   "source": []
  }
 ],
 "metadata": {
  "kernelspec": {
   "display_name": "Python 3",
   "language": "python",
   "name": "python3"
  },
  "language_info": {
   "codemirror_mode": {
    "name": "ipython",
    "version": 3
   },
   "file_extension": ".py",
   "mimetype": "text/x-python",
   "name": "python",
   "nbconvert_exporter": "python",
   "pygments_lexer": "ipython3",
   "version": "3.8.8"
  }
 },
 "nbformat": 4,
 "nbformat_minor": 5
}
